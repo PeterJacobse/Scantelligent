{
 "cells": [
  {
   "cell_type": "markdown",
   "id": "82962229",
   "metadata": {},
   "source": [
    "Run this cell once"
   ]
  },
  {
   "cell_type": "code",
   "execution_count": null,
   "id": "96d2fdae",
   "metadata": {},
   "outputs": [],
   "source": [
    "import cv2\n",
    "import numpy as np\n",
    "import matplotlib.pyplot as plt\n",
    "\n",
    "def view_camera(argument = 0):\n",
    "    cap = cv2.VideoCapture(argument)\n",
    "\n",
    "    if not cap.isOpened(): # Check if the camera opened successfully\n",
    "        print(\"Error: Could not open camera.\")\n",
    "        exit()\n",
    "\n",
    "    while True:\n",
    "        ret, frame = cap.read() # Get the frame\n",
    "\n",
    "        if not ret: # If frame reading was unsuccessful, break the loop\n",
    "            print(\"Error: Could not read frame.\")\n",
    "            break\n",
    "\n",
    "        cv2.imshow('USB Camera Feed', frame)\n",
    "\n",
    "        # Exit the loop if 'q' key is pressed\n",
    "        if cv2.waitKey(1) & 0xFF == ord('q'):\n",
    "            break\n",
    "\n",
    "    # Release the camera and destroy all OpenCV windows\n",
    "    cap.release()\n",
    "    cv2.destroyAllWindows()\n",
    "\n",
    "def capture_frame(argument = 0, grayscale: bool = True):\n",
    "    cap = cv2.VideoCapture(argument)\n",
    "    \n",
    "    if not cap.isOpened(): # Check if the camera opened successfully\n",
    "        print(\"Error: Could not open camera.\")\n",
    "        exit()\n",
    "\n",
    "    ret, frame = cap.read() # Get the frame\n",
    "    #frame2D = frame[:, :, 0]\n",
    "    cap.release()\n",
    "    cv2.destroyAllWindows()\n",
    "    \n",
    "    fig, ax = plt.subplots()\n",
    "    ax.imshow(frame, cmap = \"gray\")\n",
    "    fig.set_size_inches(10, 8)\n",
    "    plt.show()"
   ]
  },
  {
   "cell_type": "markdown",
   "id": "31608d3b",
   "metadata": {},
   "source": [
    "Run this cell to view the camera. Press \"q\" (with video window active) to exit."
   ]
  },
  {
   "cell_type": "code",
   "execution_count": null,
   "id": "e584528f",
   "metadata": {},
   "outputs": [],
   "source": [
    "view_camera()\n",
    "capture_frame()"
   ]
  },
  {
   "cell_type": "markdown",
   "id": "5ef1f822",
   "metadata": {},
   "source": [
    "Run this if there is a crash and the camera view hangs"
   ]
  },
  {
   "cell_type": "code",
   "execution_count": 27,
   "id": "bb609f41",
   "metadata": {},
   "outputs": [],
   "source": [
    "cv2.destroyAllWindows()"
   ]
  },
  {
   "cell_type": "markdown",
   "id": "0450aac1",
   "metadata": {},
   "source": [
    "Simple frame capture"
   ]
  },
  {
   "cell_type": "code",
   "execution_count": null,
   "id": "d03de9ea",
   "metadata": {},
   "outputs": [],
   "source": [
    "capture_frame()"
   ]
  }
 ],
 "metadata": {
  "kernelspec": {
   "display_name": "base",
   "language": "python",
   "name": "python3"
  },
  "language_info": {
   "codemirror_mode": {
    "name": "ipython",
    "version": 3
   },
   "file_extension": ".py",
   "mimetype": "text/x-python",
   "name": "python",
   "nbconvert_exporter": "python",
   "pygments_lexer": "ipython3",
   "version": "3.12.3"
  }
 },
 "nbformat": 4,
 "nbformat_minor": 5
}
