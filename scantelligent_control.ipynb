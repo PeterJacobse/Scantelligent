{
 "cells": [
  {
   "cell_type": "code",
   "execution_count": 1,
   "id": "b0ae0156",
   "metadata": {},
   "outputs": [],
   "source": [
    "import scantelligent.functions as st\n",
    "from time import sleep\n",
    "from pynput import keyboard\n",
    "import numpy as np\n",
    "import matplotlib.pyplot as plt\n",
    "from scipy.signal import convolve2d\n",
    "from datetime import datetime"
   ]
  },
  {
   "cell_type": "markdown",
   "id": "aab89d0e",
   "metadata": {},
   "source": [
    "Start a session"
   ]
  },
  {
   "cell_type": "code",
   "execution_count": null,
   "id": "b3f4dd4f",
   "metadata": {},
   "outputs": [],
   "source": [
    "session_path, images_path, logfile_path, parameters = st.initialize()"
   ]
  },
  {
   "cell_type": "markdown",
   "id": "1e57284d",
   "metadata": {},
   "source": [
    "Manual log entries"
   ]
  },
  {
   "cell_type": "code",
   "execution_count": null,
   "id": "9504cad6",
   "metadata": {},
   "outputs": [],
   "source": [
    "message = \"This is a manual entry. You can use this to add timestamped comments to the active logfile.\"\n",
    "st.logprint(message, logfile = logfile_path)"
   ]
  },
  {
   "cell_type": "markdown",
   "id": "d71c76d5",
   "metadata": {},
   "source": [
    "Simple auto approach"
   ]
  },
  {
   "cell_type": "code",
   "execution_count": null,
   "id": "e1922d12",
   "metadata": {},
   "outputs": [],
   "source": [
    "st.auto_approach(I_approach = 100, p_gain_approach = 30, t_const_approach = 167, land_tip = True, timeout = 1000, z_voltage = 220, adjust_percentile = 60)"
   ]
  },
  {
   "cell_type": "markdown",
   "id": "207f42d4",
   "metadata": {},
   "source": [
    "Simple coarse move in any direction"
   ]
  },
  {
   "cell_type": "code",
   "execution_count": null,
   "id": "4fb410cc",
   "metadata": {},
   "outputs": [],
   "source": [
    "st.move_over(direction = \"north\", steps = 500, z_steps = 10, I_approach = 100, p_gain_approach = 30, t_const_approach = 167, xy_voltage = 246, z_voltage = 220, velocity_threshold = .02)\n",
    "st.scan_control(action = \"start\", scan_direction = \"down\")"
   ]
  },
  {
   "cell_type": "code",
   "execution_count": null,
   "id": "54fdca51",
   "metadata": {},
   "outputs": [],
   "source": [
    "st.auto_approach(I_approach = 100, p_gain_approach = 30, t_const_approach = 167, land_tip = True, timeout = 1000, z_voltage = 220, adjust_percentile = 60)\n",
    "st.scan_control(action = \"start\", scan_direction = \"down\")"
   ]
  },
  {
   "cell_type": "markdown",
   "id": "328ab71a",
   "metadata": {},
   "source": [
    "Some scanning, coarse moving, changing parameters"
   ]
  },
  {
   "cell_type": "code",
   "execution_count": null,
   "id": "f9c35b47",
   "metadata": {},
   "outputs": [],
   "source": [
    "st.scan_control(action = \"start\", scan_direction = \"up\")\n",
    "st.move_over(direction = \"north\", steps = 20, z_steps = 10, I_approach = 100, p_gain_approach = 30, t_const_approach = 167, xy_voltage = 246, z_voltage = 220, velocity_threshold = .02, adjust_percentile = 60)\n",
    "st.change_bias(-2)\n",
    "st.change_scan_window(center = [30, -100], size = 120, grid = 260, angle = 22)\n",
    "st.scan_control(action = \"start\", scan_direction = \"down\")"
   ]
  },
  {
   "cell_type": "code",
   "execution_count": null,
   "id": "8f1aaebd",
   "metadata": {},
   "outputs": [],
   "source": [
    "st.scan_control(action = \"start\", scan_direction = \"down\", velocity_threshold = .2)"
   ]
  },
  {
   "cell_type": "code",
   "execution_count": null,
   "id": "260dca31",
   "metadata": {},
   "outputs": [],
   "source": [
    "st.scan_control(action = \"stop\")"
   ]
  },
  {
   "cell_type": "markdown",
   "id": "b85c2af6",
   "metadata": {},
   "source": [
    "Change functions. They return the old parameters as tuples. Any parameters that are left None or are omitted will remain unchanged."
   ]
  },
  {
   "cell_type": "code",
   "execution_count": null,
   "id": "d8f4063c",
   "metadata": {},
   "outputs": [],
   "source": [
    "V_old = st.change_bias(V = None)\n",
    "I_old, p_gain_old, t_const_old = st.change_feedback(I = None, p_gain = None, t_const = None)\n",
    "center_old, size_old, grid_old, angle_old = st.change_scan_window(size = None, grid = None, angle = None)"
   ]
  },
  {
   "cell_type": "markdown",
   "id": "90ec501b",
   "metadata": {},
   "source": [
    "Tip tracker. Make it time out at 20 seconds. Then return and visualize the x(t), y(t) and z(t) trajectories, with one data point generated every 0.5 seconds. Meanwhile, calculate the surface roughness every 2 seconds."
   ]
  },
  {
   "cell_type": "code",
   "execution_count": null,
   "id": "54cc44ad",
   "metadata": {},
   "outputs": [],
   "source": [
    "txyz = st.tip_tracker(sampling_time = .5, exit_when_still = False, timeout = 20, tracking_info = False, monitor_roughness = True, measurement_interval = 2)\n",
    "plt.plot(txyz[1], txyz[2])\n",
    "#plt.plot(txyz[0], txyz[2])\n",
    "#plt.plot(txyz[0], txyz[3])\n",
    "plt.show()"
   ]
  },
  {
   "cell_type": "markdown",
   "id": "3681d9e0",
   "metadata": {},
   "source": [
    "Image analysis"
   ]
  },
  {
   "cell_type": "code",
   "execution_count": null,
   "id": "700e3efc",
   "metadata": {},
   "outputs": [],
   "source": [
    "image = st.get_latest_scan(preferred_channels = [\"Z\", \"LI Demod 1 X (A)\"], scan_direction = \"forward\", subtraction = \"plane\", clip_fraction = .01)\n",
    "plt.imshow(image, cmap = \"gray\")\n",
    "plt.show()"
   ]
  },
  {
   "cell_type": "code",
   "execution_count": 3,
   "id": "fc7a0219",
   "metadata": {},
   "outputs": [],
   "source": [
    "session_path = st.get_session_path()\n",
    "file_data = st.get_file_data(session_path = session_path)\n",
    "sxm_files = file_data.image_files\n",
    "scan_data = st.get_scan(sxm_files[3])\n",
    "z_img = scan_data.scans[0, 0]"
   ]
  },
  {
   "cell_type": "code",
   "execution_count": null,
   "id": "b029f927",
   "metadata": {},
   "outputs": [],
   "source": [
    "clip_values = st.clip_range(z_img, method = \"percentiles\", values = [.2, .8])\n",
    "histogram = st.get_image_statistics(z_img).histogram\n",
    "z_img_b = st.background_subtract(z_img)\n",
    "clip_values_b = st.clip_range(z_img_b, method = \"percentiles\", values = [.2, .8])\n",
    "histogram_b = st.get_image_statistics(z_img_b).histogram\n",
    "\n",
    "fig, ax = plt.subplots(1, 3)\n",
    "ax[0].imshow(z_img, vmin = clip_values[0], vmax = clip_values[1], cmap = \"gray\")\n",
    "ax[1].plot(-histogram[1], histogram[0] - np.mean(histogram[0]))\n",
    "ax[1].plot(histogram_b[1], histogram_b[0])\n",
    "ax[2].imshow(z_img_b, vmin = clip_values_b[0], vmax = clip_values_b[1], cmap = \"gray\")\n",
    "fig.set_size_inches(10, 5)\n",
    "plt.show()"
   ]
  }
 ],
 "metadata": {
  "kernelspec": {
   "display_name": "imp",
   "language": "python",
   "name": "python3"
  },
  "language_info": {
   "codemirror_mode": {
    "name": "ipython",
    "version": 3
   },
   "file_extension": ".py",
   "mimetype": "text/x-python",
   "name": "python",
   "nbconvert_exporter": "python",
   "pygments_lexer": "ipython3",
   "version": "3.6.13"
  }
 },
 "nbformat": 4,
 "nbformat_minor": 5
}
