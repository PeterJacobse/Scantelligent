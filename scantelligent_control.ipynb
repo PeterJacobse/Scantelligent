{
 "cells": [
  {
   "cell_type": "code",
   "execution_count": 1,
   "id": "b0ae0156",
   "metadata": {},
   "outputs": [],
   "source": [
    "import scantelligent.functions as st\n",
    "import time\n",
    "from time import sleep\n",
    "from pynput import keyboard\n",
    "import nanonispy as nap\n",
    "import numpy as np\n",
    "import matplotlib.pyplot as plt\n",
    "from scipy.signal import convolve2d\n",
    "from datetime import datetime"
   ]
  },
  {
   "cell_type": "code",
   "execution_count": null,
   "id": "4ad62ccb",
   "metadata": {},
   "outputs": [],
   "source": [
    "session_path, images_path, logfile_path = st.initialize()\n",
    "st.change_bias(-3)\n",
    "st.move_over(direction = \"up\", steps = 1, z_steps = 1)\n",
    "st.tip_tracker(sampling_time = .5, velocity_threshold = .1, timeout = 60, N_no_motion = 4, exit_when_still = True)\n",
    "sleep(5)\n",
    "st.change_bias(-1.6)\n",
    "st.scan_control(\"start\", scan_direction = \"down\")\n",
    "st.tip_tracker(sampling_time = .5, velocity_threshold = .1, timeout = 60, N_no_motion = 4, exit_when_still = True)\n",
    "st.logprint(\"Scan completed!\")"
   ]
  },
  {
   "cell_type": "code",
   "execution_count": null,
   "id": "700e3efc",
   "metadata": {},
   "outputs": [],
   "source": [
    "image = st.get_latest_scan(preferred_channels = [\"Z\", \"LI Demod 1 X (A)\"], scan_direction = \"forward\", subtraction = \"plane\", clip_fraction = .01)\n",
    "plt.imshow(image, cmap = \"gray\")\n",
    "plt.show()"
   ]
  }
 ],
 "metadata": {
  "kernelspec": {
   "display_name": "imp",
   "language": "python",
   "name": "python3"
  },
  "language_info": {
   "codemirror_mode": {
    "name": "ipython",
    "version": 3
   },
   "file_extension": ".py",
   "mimetype": "text/x-python",
   "name": "python",
   "nbconvert_exporter": "python",
   "pygments_lexer": "ipython3",
   "version": "3.6.13"
  }
 },
 "nbformat": 4,
 "nbformat_minor": 5
}
