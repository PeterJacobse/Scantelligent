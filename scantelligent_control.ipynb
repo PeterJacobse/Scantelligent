{
 "cells": [
  {
   "cell_type": "code",
   "execution_count": 1,
   "id": "b0ae0156",
   "metadata": {},
   "outputs": [],
   "source": [
    "import scantelligent.functions as st\n",
    "from time import sleep\n",
    "from pynput import keyboard\n",
    "import nanonispy as nap\n",
    "import numpy as np\n",
    "import matplotlib.pyplot as plt\n",
    "from scipy.signal import convolve2d"
   ]
  },
  {
   "cell_type": "code",
   "execution_count": 23,
   "id": "2865cf9c",
   "metadata": {},
   "outputs": [
    {
     "name": "stdout",
     "output_type": "stream",
     "text": [
      "18:25:52  Bias changed from V = 2.0 V to V = 2 V.\n",
      "18:25:52  Scan started in the up direction.\n"
     ]
    }
   ],
   "source": [
    "st.change_bias(2)\n",
    "st.scan_control(\"start\", \"up\")\n",
    "#st.change_feedback(I = 20, controller = True)"
   ]
  },
  {
   "cell_type": "code",
   "execution_count": 7,
   "id": "4ad62ccb",
   "metadata": {},
   "outputs": [
    {
     "name": "stdout",
     "output_type": "stream",
     "text": [
      "22:55:56  z controller switched on.\n",
      "22:55:58  Scan started in the up direction.\n"
     ]
    }
   ],
   "source": [
    "st.change_feedback(controller = True)\n",
    "sleep(2)\n",
    "st.scan_control(\"start\", scan_direction = \"up\")"
   ]
  },
  {
   "cell_type": "code",
   "execution_count": null,
   "id": "700e3efc",
   "metadata": {},
   "outputs": [],
   "source": [
    "image = st.get_latest_scan(preferred_channels = [\"Z\", \"LI Demod 1 X (A)\"], scan_direction = \"forward\", subtraction = \"plane\", clip_fraction = .01)\n",
    "plt.imshow(image, cmap = \"gray\")\n",
    "plt.show()"
   ]
  }
 ],
 "metadata": {
  "kernelspec": {
   "display_name": "imp",
   "language": "python",
   "name": "python3"
  },
  "language_info": {
   "codemirror_mode": {
    "name": "ipython",
    "version": 3
   },
   "file_extension": ".py",
   "mimetype": "text/x-python",
   "name": "python",
   "nbconvert_exporter": "python",
   "pygments_lexer": "ipython3",
   "version": "3.6.15"
  }
 },
 "nbformat": 4,
 "nbformat_minor": 5
}
