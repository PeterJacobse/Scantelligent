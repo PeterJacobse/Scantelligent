{
 "cells": [
  {
   "cell_type": "code",
   "execution_count": 1,
   "id": "b0ae0156",
   "metadata": {},
   "outputs": [],
   "source": [
    "import scantelligent.functions as st\n",
    "import time\n",
    "from time import sleep\n",
    "from pynput import keyboard\n",
    "import nanonispy as nap\n",
    "import numpy as np\n",
    "import matplotlib.pyplot as plt\n",
    "from scipy.signal import convolve2d\n",
    "from datetime import datetime"
   ]
  },
  {
   "cell_type": "markdown",
   "id": "aab89d0e",
   "metadata": {},
   "source": [
    "Start a session"
   ]
  },
  {
   "cell_type": "code",
   "execution_count": null,
   "id": "b3f4dd4f",
   "metadata": {},
   "outputs": [],
   "source": [
    "session_path, images_path, logfile_path = st.initialize()"
   ]
  },
  {
   "cell_type": "markdown",
   "id": "eb7ce710",
   "metadata": {},
   "source": [
    "Simple auto approach"
   ]
  },
  {
   "cell_type": "code",
   "execution_count": null,
   "id": "40c236a5",
   "metadata": {},
   "outputs": [],
   "source": [
    "st.auto_approach(I_approach = 100, p_gain_approach = 30, t_const_approach = 167, wait = True, land_tip = True, timeout = 1000, z_voltage = 220)"
   ]
  },
  {
   "cell_type": "markdown",
   "id": "50a7dabc",
   "metadata": {},
   "source": [
    "Simple coarse move in any direction"
   ]
  },
  {
   "cell_type": "code",
   "execution_count": null,
   "id": "42f705f5",
   "metadata": {},
   "outputs": [],
   "source": [
    "st.move_over(direction = \"north\", steps = 20, z_steps = 10, I_approach = 100, p_gain_approach = 30, t_const_approach = 167, xy_voltage = 246, z_voltage = 220, land_tip = True)"
   ]
  },
  {
   "cell_type": "code",
   "execution_count": null,
   "id": "4ad62ccb",
   "metadata": {},
   "outputs": [],
   "source": [
    "session_path, images_path, logfile_path = st.initialize()\n",
    "st.change_bias(-3)\n",
    "st.move_over(direction = \"up\", steps = 1, z_steps = 1)\n",
    "st.tip_tracker(sampling_time = .5, velocity_threshold = .1, timeout = 60, N_no_motion = 4, exit_when_still = True)\n",
    "sleep(5)\n",
    "st.change_bias(-1.6)\n",
    "st.scan_control(\"start\", scan_direction = \"down\")\n",
    "st.tip_tracker(sampling_time = .5, velocity_threshold = .1, timeout = 60, N_no_motion = 4, exit_when_still = True)\n",
    "st.logprint(\"Scan completed!\")"
   ]
  },
  {
   "cell_type": "code",
   "execution_count": null,
   "id": "8a34dcce",
   "metadata": {},
   "outputs": [],
   "source": [
    "st.move_over(direction = \"east\", steps = 500, z_steps = 20, z_voltage = 240)"
   ]
  },
  {
   "cell_type": "code",
   "execution_count": null,
   "id": "700e3efc",
   "metadata": {},
   "outputs": [],
   "source": [
    "image = st.get_latest_scan(preferred_channels = [\"Z\", \"LI Demod 1 X (A)\"], scan_direction = \"forward\", subtraction = \"plane\", clip_fraction = .01)\n",
    "plt.imshow(image, cmap = \"gray\")\n",
    "plt.show()"
   ]
  },
  {
   "cell_type": "code",
   "execution_count": 3,
   "id": "fc7a0219",
   "metadata": {},
   "outputs": [],
   "source": [
    "session_path = st.get_session_path()\n",
    "file_data = st.get_file_data(session_path = session_path)\n",
    "sxm_files = file_data.image_files\n",
    "scan_data = st.get_scan(sxm_files[3])\n",
    "z_img = scan_data.scans[0, 0]"
   ]
  },
  {
   "cell_type": "code",
   "execution_count": null,
   "id": "b029f927",
   "metadata": {},
   "outputs": [],
   "source": [
    "clip_values = st.clip_range(z_img, method = \"percentiles\", values = [.2, .8])\n",
    "histogram = st.get_image_statistics(z_img).histogram\n",
    "z_img_b = st.background_subtract(z_img)\n",
    "clip_values_b = st.clip_range(z_img_b, method = \"percentiles\", values = [.2, .8])\n",
    "histogram_b = st.get_image_statistics(z_img_b).histogram\n",
    "\n",
    "fig, ax = plt.subplots(1, 3)\n",
    "ax[0].imshow(z_img, vmin = clip_values[0], vmax = clip_values[1], cmap = \"gray\")\n",
    "ax[1].plot(-histogram[1], histogram[0] - np.mean(histogram[0]))\n",
    "ax[1].plot(histogram_b[1], histogram_b[0])\n",
    "ax[2].imshow(z_img_b, vmin = clip_values_b[0], vmax = clip_values_b[1], cmap = \"gray\")\n",
    "fig.set_size_inches(10, 5)\n",
    "plt.show()"
   ]
  }
 ],
 "metadata": {
  "kernelspec": {
   "display_name": "imp",
   "language": "python",
   "name": "python3"
  },
  "language_info": {
   "codemirror_mode": {
    "name": "ipython",
    "version": 3
   },
   "file_extension": ".py",
   "mimetype": "text/x-python",
   "name": "python",
   "nbconvert_exporter": "python",
   "pygments_lexer": "ipython3",
   "version": "3.6.13"
  }
 },
 "nbformat": 4,
 "nbformat_minor": 5
}
