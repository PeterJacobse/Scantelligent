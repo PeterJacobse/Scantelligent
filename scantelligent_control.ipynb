{
 "cells": [
  {
   "cell_type": "code",
   "execution_count": 1,
   "id": "b0ae0156",
   "metadata": {},
   "outputs": [],
   "source": [
    "import scantelligent.functions as st\n",
    "from time import sleep\n",
    "from pynput import keyboard\n",
    "import numpy as np\n",
    "import matplotlib.pyplot as plt\n",
    "from scipy.signal import convolve2d\n",
    "from datetime import datetime"
   ]
  },
  {
   "cell_type": "markdown",
   "id": "aab89d0e",
   "metadata": {},
   "source": [
    "Start a session"
   ]
  },
  {
   "cell_type": "code",
   "execution_count": null,
   "id": "b3f4dd4f",
   "metadata": {},
   "outputs": [],
   "source": [
    "session_path, images_path, logfile_path, parameters = st.initialize()"
   ]
  },
  {
   "cell_type": "markdown",
   "id": "1e57284d",
   "metadata": {},
   "source": [
    "Manual log entries"
   ]
  },
  {
   "cell_type": "code",
   "execution_count": null,
   "id": "9504cad6",
   "metadata": {},
   "outputs": [],
   "source": [
    "message = \"This is a manual entry. You can use this to add timestamped comments to the active logfile.\"\n",
    "st.logprint(message, logfile = logfile_path)"
   ]
  },
  {
   "cell_type": "markdown",
   "id": "d71c76d5",
   "metadata": {},
   "source": [
    "Simple auto approach"
   ]
  },
  {
   "cell_type": "code",
   "execution_count": null,
   "id": "e1922d12",
   "metadata": {},
   "outputs": [],
   "source": [
    "st.auto_approach(I_approach = 100, p_gain_approach = 30, t_const_approach = 167, land_tip = True, timeout = 1000, z_voltage = 220, adjust_percentile = 60)"
   ]
  },
  {
   "cell_type": "markdown",
   "id": "207f42d4",
   "metadata": {},
   "source": [
    "Simple coarse move in any direction"
   ]
  },
  {
   "cell_type": "code",
   "execution_count": null,
   "id": "4fb410cc",
   "metadata": {},
   "outputs": [],
   "source": [
    "st.move_over(direction = \"north\", steps = 50, z_steps = 10, I_approach = 100, p_gain_approach = 30, t_const_approach = 167, xy_voltage = 246, z_voltage = 220, velocity_threshold = .02)\n",
    "st.scan_control(action = \"start\", scan_direction = \"down\")"
   ]
  },
  {
   "cell_type": "code",
   "execution_count": null,
   "id": "54fdca51",
   "metadata": {},
   "outputs": [],
   "source": [
    "st.auto_approach(I_approach = 100, p_gain_approach = 30, t_const_approach = 167, land_tip = True, timeout = 1000, z_voltage = 220, adjust_percentile = 60)\n",
    "st.scan_control(action = \"start\", scan_direction = \"down\")"
   ]
  },
  {
   "cell_type": "code",
   "execution_count": 22,
   "id": "94512025",
   "metadata": {},
   "outputs": [
    {
     "name": "stdout",
     "output_type": "stream",
     "text": [
      "21:39:44  Coarse motion: 200 steps in the Z+ direction.\n"
     ]
    }
   ],
   "source": [
    "st.coarse_move(direction = \"lift\", steps = 200)"
   ]
  },
  {
   "cell_type": "markdown",
   "id": "328ab71a",
   "metadata": {},
   "source": [
    "Some scanning, coarse moving, changing parameters"
   ]
  },
  {
   "cell_type": "code",
   "execution_count": null,
   "id": "f9c35b47",
   "metadata": {},
   "outputs": [],
   "source": [
    "st.scan_control(action = \"start\", scan_direction = \"up\")\n",
    "st.move_over(direction = \"north\", steps = 20, z_steps = 10, I_approach = 100, p_gain_approach = 30, t_const_approach = 167, xy_voltage = 246, z_voltage = 220, velocity_threshold = .02, adjust_percentile = 60)\n",
    "st.change_bias(-2)\n",
    "st.change_scan_window(center = [30, -100], size = 120, grid = 260, angle = 22)\n",
    "st.scan_control(action = \"start\", scan_direction = \"down\")"
   ]
  },
  {
   "cell_type": "code",
   "execution_count": null,
   "id": "8f1aaebd",
   "metadata": {},
   "outputs": [],
   "source": [
    "st.scan_control(action = \"start\", scan_direction = \"down\", velocity_threshold = .2)"
   ]
  },
  {
   "cell_type": "code",
   "execution_count": null,
   "id": "260dca31",
   "metadata": {},
   "outputs": [],
   "source": [
    "st.scan_control(action = \"stop\")"
   ]
  },
  {
   "cell_type": "markdown",
   "id": "b85c2af6",
   "metadata": {},
   "source": [
    "Change functions. They return the old parameters as tuples. Any parameters that are left None or are omitted will remain unchanged."
   ]
  },
  {
   "cell_type": "code",
   "execution_count": null,
   "id": "d8f4063c",
   "metadata": {},
   "outputs": [],
   "source": [
    "V_old = st.change_bias(V = None)\n",
    "I_old, p_gain_old, t_const_old = st.change_feedback(I = None, p_gain = None, t_const = None)\n",
    "center_old, size_old, grid_old, angle_old = st.change_scan_window(size = None, grid = None, angle = None)"
   ]
  },
  {
   "cell_type": "markdown",
   "id": "90ec501b",
   "metadata": {},
   "source": [
    "Tip tracker. Make it time out at 20 seconds. Then return and visualize the x(t), y(t) and z(t) trajectories, with one data point generated every 0.5 seconds. Meanwhile, calculate the surface roughness every 2 seconds."
   ]
  },
  {
   "cell_type": "code",
   "execution_count": null,
   "id": "54cc44ad",
   "metadata": {},
   "outputs": [],
   "source": [
    "txyz = st.tip_tracker(sampling_time = .5, exit_when_still = False, timeout = 20, tracking_info = False, monitor_roughness = True, measurement_interval = 2)\n",
    "plt.plot(txyz[1], txyz[2])\n",
    "#plt.plot(txyz[0], txyz[2])\n",
    "#plt.plot(txyz[0], txyz[3])\n",
    "plt.show()"
   ]
  },
  {
   "cell_type": "markdown",
   "id": "3681d9e0",
   "metadata": {},
   "source": [
    "Image analysis. Load all files in the current working directory of Nanonis. Change the path argument in get_file_data to get sxm files from another folder"
   ]
  },
  {
   "cell_type": "code",
   "execution_count": 3,
   "id": "fc7a0219",
   "metadata": {},
   "outputs": [
    {
     "name": "stdout",
     "output_type": "stream",
     "text": [
      "The session path is: C:\\Data\\Qile\\082025\n",
      "SXM files found in this directory: img_0001.sxm; img_0002.sxm; img_0003.sxm; img_0004.sxm; img_0005.sxm; img_0006.sxm; img_0007.sxm; img_0008.sxm; img_0009.sxm; img_0010.sxm; img_0011.sxm; img_0012.sxm; img_0013.sxm; img_0014.sxm; img_0015.sxm; img_0016.sxm; img_0017.sxm; img_0018.sxm; img_0019.sxm; img_0020.sxm; img_0021.sxm; img_0022.sxm; img_0023.sxm; img_0024.sxm; img_0025.sxm; img_0026.sxm; img_0027.sxm; img_0028.sxm; img_0029.sxm; img_0030.sxm; img_0031.sxm; img_0032.sxm; img_0033.sxm; img_0034.sxm; img_0035.sxm; img_0036.sxm; img_0037.sxm; img_0038.sxm; img_0039.sxm; img_0040.sxm; img_0041.sxm; img_0042.sxm; img_0043.sxm; img_0044.sxm; img_0045.sxm; img_0046.sxm; img_0047.sxm; img_0048.sxm; img_0049.sxm; img_0050.sxm; img_0051.sxm; img_0052.sxm; img_0053.sxm; img_0054.sxm; img_0055.sxm; img_0056.sxm; img_0057.sxm; img_0058.sxm; img_0059.sxm; img_0060.sxm; img_0061.sxm; img_0062.sxm; img_0063.sxm; img_0064.sxm; img_0065.sxm; img_0066.sxm; img_0067.sxm; img_0068.sxm; img_0069.sxm; img_0070.sxm; img_0071.sxm; img_0072.sxm; img_0073.sxm; img_0074.sxm; img_0075.sxm; img_0076.sxm; img_0077.sxm; img_0078.sxm; img_0079.sxm; img_0080.sxm; img_0081.sxm; img_0082.sxm; img_0083.sxm; img_0084.sxm; img_0085.sxm; img_0086.sxm; img_0087.sxm; img_0088.sxm; img_0089.sxm; img_0090.sxm; img_0091.sxm; img_0092.sxm; img_0093.sxm; img_0094.sxm; img_0095.sxm; img_0096.sxm; img_0097.sxm; img_0098.sxm; img_0099.sxm; img_0100.sxm; img_0101.sxm; img_0102.sxm; img_0103.sxm; img_0104.sxm; img_0105.sxm; img_0106.sxm; img_0107.sxm; img_0108.sxm; img_0109.sxm; img_0110.sxm; img_0111.sxm; img_0112.sxm; img_0113.sxm; img_0114.sxm; img_0115.sxm\n"
     ]
    }
   ],
   "source": [
    "session_path = st.get_session_path()\n",
    "file_data = st.get_file_data(session_path = session_path)\n",
    "sxm_files = file_data.image_files\n",
    "sxm_files_in_folder = [file.split(\"\\\\\")[-1] for file in sxm_files] # This removes the directory from the path\n",
    "\n",
    "print(\"The session path is: \" + session_path)\n",
    "print(\"SXM files found in this directory: \" + \"; \".join(sxm_files_in_folder))"
   ]
  },
  {
   "cell_type": "markdown",
   "id": "9b6d8656",
   "metadata": {},
   "source": [
    "Get the data for a scan. First make sure the scan file exists and contains the target channel. Then, check how clipping and background subtraction affects the scan image."
   ]
  },
  {
   "cell_type": "code",
   "execution_count": null,
   "id": "505cd2b7",
   "metadata": {},
   "outputs": [],
   "source": [
    "file_no = 10\n",
    "target_channel = \"Z\"\n",
    "dirxn = 0 # dirxn = 0 means forward; dirxn = 1 means backward\n",
    "clip_percentiles = [20, 80]\n",
    "\n",
    "if file_no > len(sxm_files) - 1: print(\"Error: This file does not exist.\")\n",
    "else:\n",
    "    scan_data = st.get_scan(sxm_files[file_no]) # Import all the scan data using Nanonispy\n",
    "    V = scan_data.V\n",
    "    size = scan_data.header.get(\"scan_range\", [100, 100])\n",
    "    \n",
    "    channels = scan_data.channels\n",
    "    find_channel = np.where(np.array(channels) == target_channel)[0]\n",
    "    \n",
    "    if len(find_channel) != 1: print(\"Error: The target channel was not found\")\n",
    "    else:\n",
    "        channel_index = find_channel[0]\n",
    "        filename = images_path + \"\\\\\" + channels[channel_index] + f\"_{file_data.image_indices[file_no]:03d}.png\"\n",
    "        img_raw = scan_data.scans[channel_index, dirxn]\n",
    "        \n",
    "        clip_values = st.clip_range(img_raw, method = \"percentiles\", values = clip_percentiles)\n",
    "        histogram = st.get_image_statistics(img_raw).histogram\n",
    "        img_b = st.background_subtract(img_raw)\n",
    "        clip_values_b = st.clip_range(img_b, method = \"percentiles\", values = clip_percentiles)\n",
    "        histogram_b = st.get_image_statistics(img_b).histogram\n",
    "\n",
    "        fig, ax = plt.subplots(1, 2)\n",
    "        ax[0].imshow(img_raw, vmin = clip_values[0], vmax = clip_values[1], cmap = \"gray\")\n",
    "        ax[1].imshow(img_b, vmin = clip_values_b[0], vmax = clip_values_b[1], cmap = \"gray\")\n",
    "        fig.set_size_inches(10, 5)\n",
    "        plt.show()\n",
    "\n",
    "        fig, ax = plt.subplots()\n",
    "        ax.plot(-histogram[1], histogram[0] - np.mean(histogram[0]))\n",
    "        ax.plot(histogram_b[1], histogram_b[0])\n",
    "        print(\"Image histograms:\")\n",
    "        plt.show()\n",
    "        \n",
    "    print(filename)"
   ]
  },
  {
   "cell_type": "markdown",
   "id": "20b8f7ce",
   "metadata": {},
   "source": [
    "Check the background subtraction and clipping"
   ]
  },
  {
   "cell_type": "code",
   "execution_count": null,
   "id": "0edaf86f",
   "metadata": {},
   "outputs": [],
   "source": [
    "background = True\n",
    "\n",
    "clip_values = st.clip_range(img_raw, method = \"percentiles\", values = clip_percentiles)\n",
    "histogram = st.get_image_statistics(img_raw).histogram\n",
    "img_b = st.background_subtract(img_raw)\n",
    "clip_values_b = st.clip_range(img_b, method = \"percentiles\", values = clip_percentiles)\n",
    "histogram_b = st.get_image_statistics(img_b).histogram\n",
    "\n",
    "if background:\n",
    "    img = img_b\n",
    "    clip_values = clip_values_b\n",
    "else: img = img_raw\n",
    "\n",
    "fig, ax = plt.subplots()\n",
    "ax.imshow(img, vmin = clip_values[0], vmax = clip_values[1], cmap = \"gray\")\n",
    "fig.set_size_inches(10, 5)\n",
    "plt.show()\n",
    "plt.imsave(filename, img, vmin = clip_values[0], vmax = clip_values[1], cmap = \"gray\")\n",
    "\n",
    "print(\"Successfully saved \" + filename)"
   ]
  }
 ],
 "metadata": {
  "kernelspec": {
   "display_name": "imp",
   "language": "python",
   "name": "python3"
  },
  "language_info": {
   "codemirror_mode": {
    "name": "ipython",
    "version": 3
   },
   "file_extension": ".py",
   "mimetype": "text/x-python",
   "name": "python",
   "nbconvert_exporter": "python",
   "pygments_lexer": "ipython3",
   "version": "3.6.13"
  }
 },
 "nbformat": 4,
 "nbformat_minor": 5
}
